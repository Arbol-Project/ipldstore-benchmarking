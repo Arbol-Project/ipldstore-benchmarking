{
  "cells": [
    {
      "cell_type": "code",
      "execution_count": 1,
      "metadata": {
        "colab": {
          "base_uri": "https://localhost:8080/"
        },
        "id": "EJBdSeIebyhT",
        "outputId": "05e3581c-ca5c-413c-ff5f-950f42a5c61d"
      },
      "outputs": [
        {
          "name": "stdout",
          "output_type": "stream",
          "text": [
            "Python 3.10.12\n"
          ]
        }
      ],
      "source": [
        "!python --version"
      ]
    },
    {
      "cell_type": "code",
      "execution_count": null,
      "metadata": {
        "colab": {
          "base_uri": "https://localhost:8080/"
        },
        "id": "_Ms4jhMPcd8l",
        "outputId": "03969938-e5ec-47bc-ef5a-7b3774f7a3ea"
      },
      "outputs": [
        {
          "name": "stdout",
          "output_type": "stream",
          "text": [
            "Collecting git+https://github.com/dmp267/ipldstore.git@ipfs-benchmarking\n",
            "  Cloning https://github.com/dmp267/ipldstore.git (to revision ipfs-benchmarking) to /tmp/pip-req-build-c84h_kfu\n",
            "  Running command git clone --filter=blob:none --quiet https://github.com/dmp267/ipldstore.git /tmp/pip-req-build-c84h_kfu\n",
            "  Running command git checkout -b ipfs-benchmarking --track origin/ipfs-benchmarking\n",
            "  Switched to a new branch 'ipfs-benchmarking'\n",
            "  Branch 'ipfs-benchmarking' set up to track remote branch 'ipfs-benchmarking' from 'origin'.\n",
            "  Resolved https://github.com/dmp267/ipldstore.git to commit 153d7c123e3bbc22bd7d6a2d2569e8c6c14b0c87\n",
            "  Installing build dependencies ... \u001b[?25l\u001b[?25hdone\n",
            "  Getting requirements to build wheel ... \u001b[?25l\u001b[?25hdone\n",
            "  Preparing metadata (pyproject.toml) ... \u001b[?25l\u001b[?25hdone\n",
            "Collecting py-hamt@ git+https://github.com/dClimate/py-hamt@v1.1.0 (from ipldstore==0.0.post89)\n",
            "  Cloning https://github.com/dClimate/py-hamt (to revision v1.1.0) to /tmp/pip-install-nara8tyq/py-hamt_870c571e87c14bcf8490e9c4d8c376bb\n",
            "  Running command git clone --filter=blob:none --quiet https://github.com/dClimate/py-hamt /tmp/pip-install-nara8tyq/py-hamt_870c571e87c14bcf8490e9c4d8c376bb\n",
            "  Running command git checkout -q 0dff1ca67258c1ed697128c9a007329160a186a7\n",
            "  Resolved https://github.com/dClimate/py-hamt to commit 0dff1ca67258c1ed697128c9a007329160a186a7\n",
            "  Installing build dependencies ... \u001b[?25l\u001b[?25hdone\n",
            "  Getting requirements to build wheel ... \u001b[?25l\u001b[?25hdone\n",
            "  Preparing metadata (pyproject.toml) ... \u001b[?25l\u001b[?25hdone\n",
            "Requirement already satisfied: aiohttp in /usr/local/lib/python3.10/dist-packages (from ipldstore==0.0.post89) (3.9.3)\n",
            "Requirement already satisfied: typing-extensions in /usr/local/lib/python3.10/dist-packages (from ipldstore==0.0.post89) (4.9.0)\n",
            "Collecting typing-validation==0.0.2 (from ipldstore==0.0.post89)\n",
            "  Downloading typing_validation-0.0.2-py3-none-any.whl (11 kB)\n",
            "Collecting multiformats (from ipldstore==0.0.post89)\n",
            "  Downloading multiformats-0.3.1.post4-py3-none-any.whl (57 kB)\n",
            "\u001b[2K     \u001b[90m━━━━━━━━━━━━━━━━━━━━━━━━━━━━━━━━━━━━━━━━\u001b[0m \u001b[32m57.1/57.1 kB\u001b[0m \u001b[31m1.5 MB/s\u001b[0m eta \u001b[36m0:00:00\u001b[0m\n",
            "\u001b[?25hCollecting multiformats-config<0.3.0 (from ipldstore==0.0.post89)\n",
            "  Downloading multiformats_config-0.2.0.post4-py3-none-any.whl (15 kB)\n",
            "Collecting dag-cbor==0.2.2 (from ipldstore==0.0.post89)\n",
            "  Downloading dag_cbor-0.2.2-py3-none-any.whl (16 kB)\n",
            "Collecting pure-protobuf>=2.1.0 (from ipldstore==0.0.post89)\n",
            "  Downloading pure_protobuf-3.0.0-py3-none-any.whl (27 kB)\n",
            "Collecting numcodecs (from ipldstore==0.0.post89)\n",
            "  Downloading numcodecs-0.12.1-cp310-cp310-manylinux_2_17_x86_64.manylinux2014_x86_64.whl (7.7 MB)\n",
            "\u001b[2K     \u001b[90m━━━━━━━━━━━━━━━━━━━━━━━━━━━━━━━━━━━━━━━━\u001b[0m \u001b[32m7.7/7.7 MB\u001b[0m \u001b[31m9.2 MB/s\u001b[0m eta \u001b[36m0:00:00\u001b[0m\n",
            "\u001b[?25hRequirement already satisfied: requests in /usr/local/lib/python3.10/dist-packages (from ipldstore==0.0.post89) (2.31.0)\n",
            "Collecting cbor2 (from ipldstore==0.0.post89)\n",
            "  Downloading cbor2-5.6.1-cp310-cp310-manylinux_2_17_x86_64.manylinux2014_x86_64.whl (242 kB)\n",
            "\u001b[2K     \u001b[90m━━━━━━━━━━━━━━━━━━━━━━━━━━━━━━━━━━━━━━━━\u001b[0m \u001b[32m242.0/242.0 kB\u001b[0m \u001b[31m21.3 MB/s\u001b[0m eta \u001b[36m0:00:00\u001b[0m\n",
            "\u001b[?25hCollecting zarr<=2.14.2 (from ipldstore==0.0.post89)\n",
            "  Downloading zarr-2.14.2-py3-none-any.whl (203 kB)\n",
            "\u001b[2K     \u001b[90m━━━━━━━━━━━━━━━━━━━━━━━━━━━━━━━━━━━━━━━━\u001b[0m \u001b[32m203.3/203.3 kB\u001b[0m \u001b[31m20.6 MB/s\u001b[0m eta \u001b[36m0:00:00\u001b[0m\n",
            "\u001b[?25hRequirement already satisfied: psutil in /usr/local/lib/python3.10/dist-packages (from ipldstore==0.0.post89) (5.9.5)\n",
            "Requirement already satisfied: dask[distributed] in /usr/local/lib/python3.10/dist-packages (from ipldstore==0.0.post89) (2023.8.1)\n",
            "Collecting asciitree (from zarr<=2.14.2->ipldstore==0.0.post89)\n",
            "  Downloading asciitree-0.3.3.tar.gz (4.0 kB)\n",
            "  Preparing metadata (setup.py) ... \u001b[?25l\u001b[?25hdone\n",
            "Requirement already satisfied: numpy>=1.20 in /usr/local/lib/python3.10/dist-packages (from zarr<=2.14.2->ipldstore==0.0.post89) (1.23.5)\n",
            "Collecting fasteners (from zarr<=2.14.2->ipldstore==0.0.post89)\n",
            "  Downloading fasteners-0.19-py3-none-any.whl (18 kB)\n",
            "Requirement already satisfied: aiosignal>=1.1.2 in /usr/local/lib/python3.10/dist-packages (from aiohttp->ipldstore==0.0.post89) (1.3.1)\n",
            "Requirement already satisfied: attrs>=17.3.0 in /usr/local/lib/python3.10/dist-packages (from aiohttp->ipldstore==0.0.post89) (23.2.0)\n",
            "Requirement already satisfied: frozenlist>=1.1.1 in /usr/local/lib/python3.10/dist-packages (from aiohttp->ipldstore==0.0.post89) (1.4.1)\n",
            "Requirement already satisfied: multidict<7.0,>=4.5 in /usr/local/lib/python3.10/dist-packages (from aiohttp->ipldstore==0.0.post89) (6.0.5)\n",
            "Requirement already satisfied: yarl<2.0,>=1.0 in /usr/local/lib/python3.10/dist-packages (from aiohttp->ipldstore==0.0.post89) (1.9.4)\n",
            "Requirement already satisfied: async-timeout<5.0,>=4.0 in /usr/local/lib/python3.10/dist-packages (from aiohttp->ipldstore==0.0.post89) (4.0.3)\n",
            "Requirement already satisfied: click>=8.0 in /usr/local/lib/python3.10/dist-packages (from dask[distributed]->ipldstore==0.0.post89) (8.1.7)\n",
            "Requirement already satisfied: cloudpickle>=1.5.0 in /usr/local/lib/python3.10/dist-packages (from dask[distributed]->ipldstore==0.0.post89) (2.2.1)\n",
            "Requirement already satisfied: fsspec>=2021.09.0 in /usr/local/lib/python3.10/dist-packages (from dask[distributed]->ipldstore==0.0.post89) (2023.6.0)\n",
            "Requirement already satisfied: packaging>=20.0 in /usr/local/lib/python3.10/dist-packages (from dask[distributed]->ipldstore==0.0.post89) (23.2)\n",
            "Requirement already satisfied: partd>=1.2.0 in /usr/local/lib/python3.10/dist-packages (from dask[distributed]->ipldstore==0.0.post89) (1.4.1)\n",
            "Requirement already satisfied: pyyaml>=5.3.1 in /usr/local/lib/python3.10/dist-packages (from dask[distributed]->ipldstore==0.0.post89) (6.0.1)\n",
            "Requirement already satisfied: toolz>=0.10.0 in /usr/local/lib/python3.10/dist-packages (from dask[distributed]->ipldstore==0.0.post89) (0.12.1)\n",
            "Requirement already satisfied: importlib-metadata>=4.13.0 in /usr/local/lib/python3.10/dist-packages (from dask[distributed]->ipldstore==0.0.post89) (7.0.1)\n",
            "Requirement already satisfied: distributed==2023.8.1 in /usr/local/lib/python3.10/dist-packages (from dask[distributed]->ipldstore==0.0.post89) (2023.8.1)\n",
            "Requirement already satisfied: jinja2>=2.10.3 in /usr/local/lib/python3.10/dist-packages (from distributed==2023.8.1->dask[distributed]->ipldstore==0.0.post89) (3.1.3)\n",
            "Requirement already satisfied: locket>=1.0.0 in /usr/local/lib/python3.10/dist-packages (from distributed==2023.8.1->dask[distributed]->ipldstore==0.0.post89) (1.0.0)\n",
            "Requirement already satisfied: msgpack>=1.0.0 in /usr/local/lib/python3.10/dist-packages (from distributed==2023.8.1->dask[distributed]->ipldstore==0.0.post89) (1.0.7)\n",
            "Requirement already satisfied: sortedcontainers>=2.0.5 in /usr/local/lib/python3.10/dist-packages (from distributed==2023.8.1->dask[distributed]->ipldstore==0.0.post89) (2.4.0)\n",
            "Requirement already satisfied: tblib>=1.6.0 in /usr/local/lib/python3.10/dist-packages (from distributed==2023.8.1->dask[distributed]->ipldstore==0.0.post89) (3.0.0)\n",
            "Requirement already satisfied: tornado>=6.0.4 in /usr/local/lib/python3.10/dist-packages (from distributed==2023.8.1->dask[distributed]->ipldstore==0.0.post89) (6.3.2)\n",
            "Requirement already satisfied: urllib3>=1.24.3 in /usr/local/lib/python3.10/dist-packages (from distributed==2023.8.1->dask[distributed]->ipldstore==0.0.post89) (2.0.7)\n",
            "Requirement already satisfied: zict>=2.2.0 in /usr/local/lib/python3.10/dist-packages (from distributed==2023.8.1->dask[distributed]->ipldstore==0.0.post89) (3.0.0)\n",
            "INFO: pip is looking at multiple versions of multiformats to determine which version is compatible with other requirements. This could take a while.\n",
            "Collecting multiformats (from ipldstore==0.0.post89)\n",
            "  Downloading multiformats-0.3.1-py3-none-any.whl (57 kB)\n",
            "\u001b[2K     \u001b[90m━━━━━━━━━━━━━━━━━━━━━━━━━━━━━━━━━━━━━━━━\u001b[0m \u001b[32m57.2/57.2 kB\u001b[0m \u001b[31m8.2 MB/s\u001b[0m eta \u001b[36m0:00:00\u001b[0m\n",
            "\u001b[?25h  Downloading multiformats-0.2.1-py3-none-any.whl (56 kB)\n",
            "\u001b[2K     \u001b[90m━━━━━━━━━━━━━━━━━━━━━━━━━━━━━━━━━━━━━━━━\u001b[0m \u001b[32m56.0/56.0 kB\u001b[0m \u001b[31m7.2 MB/s\u001b[0m eta \u001b[36m0:00:00\u001b[0m\n",
            "\u001b[?25hCollecting bases (from multiformats->ipldstore==0.0.post89)\n",
            "  Downloading bases-0.3.0-py3-none-any.whl (36 kB)\n",
            "Requirement already satisfied: charset-normalizer<4,>=2 in /usr/local/lib/python3.10/dist-packages (from requests->ipldstore==0.0.post89) (3.3.2)\n",
            "Requirement already satisfied: idna<4,>=2.5 in /usr/local/lib/python3.10/dist-packages (from requests->ipldstore==0.0.post89) (3.6)\n",
            "Requirement already satisfied: certifi>=2017.4.17 in /usr/local/lib/python3.10/dist-packages (from requests->ipldstore==0.0.post89) (2024.2.2)\n",
            "Requirement already satisfied: zipp>=0.5 in /usr/local/lib/python3.10/dist-packages (from importlib-metadata>=4.13.0->dask[distributed]->ipldstore==0.0.post89) (3.17.0)\n",
            "INFO: pip is looking at multiple versions of bases to determine which version is compatible with other requirements. This could take a while.\n",
            "  Downloading bases-0.2.1-py3-none-any.whl (35 kB)\n",
            "Requirement already satisfied: MarkupSafe>=2.0 in /usr/local/lib/python3.10/dist-packages (from jinja2>=2.10.3->distributed==2023.8.1->dask[distributed]->ipldstore==0.0.post89) (2.1.5)\n",
            "Building wheels for collected packages: ipldstore, py-hamt, asciitree\n",
            "  Building wheel for ipldstore (pyproject.toml) ... \u001b[?25l\u001b[?25hdone\n",
            "  Created wheel for ipldstore: filename=ipldstore-0.0.post89-py3-none-any.whl size=15755 sha256=2cf44213d78d4f58e5ef8dd1672bd680d12ee6a60d4e228b91783fa29bcda5b2\n",
            "  Stored in directory: /tmp/pip-ephem-wheel-cache-uupoqsx3/wheels/bb/21/61/db88fd9a5d0d0d22a5e793ceea9afa13ad5bcf9bd8abfa1cea\n",
            "  Building wheel for py-hamt (pyproject.toml) ... \u001b[?25l\u001b[?25hdone\n",
            "  Created wheel for py-hamt: filename=py_hamt-1.1.0-py3-none-any.whl size=12571 sha256=ce76efa31cd5d0944eef0eb6125426c62e5dfe4b1136dc9c61da94808f50cafd\n",
            "  Stored in directory: /tmp/pip-ephem-wheel-cache-uupoqsx3/wheels/7f/7a/f2/e8f13aff2592646b4929867d02d7b3e039d11a288f13a6b685\n"
          ]
        }
      ],
      "source": [
        "# !pip install git+https://github.com/dClimate/ipldstore.git@ipfs-benchmarking\n",
        "!pip install git+https://github.com/dmp267/ipldstore.git@ipfs-benchmarking"
      ]
    },
    {
      "cell_type": "code",
      "execution_count": null,
      "metadata": {
        "id": "k8Y5lSEE_Jic"
      },
      "outputs": [],
      "source": [
        "# install ipldstore_v1\n",
        "!pip install git+https://github.com/dmp267/ipldstore-v1.git"
      ]
    },
    {
      "cell_type": "code",
      "execution_count": null,
      "metadata": {
        "id": "MY9WJdVti7-R"
      },
      "outputs": [],
      "source": [
        "!pip install xarray"
      ]
    },
    {
      "cell_type": "code",
      "execution_count": null,
      "metadata": {
        "id": "pLvBFx-PnmDE"
      },
      "outputs": [],
      "source": [
        "!pip install nest_asyncio"
      ]
    },
    {
      "cell_type": "code",
      "execution_count": null,
      "metadata": {
        "id": "L5XPDv0zGQU1"
      },
      "outputs": [],
      "source": [
        "!pip install matplotlib"
      ]
    },
    {
      "cell_type": "code",
      "execution_count": null,
      "metadata": {
        "id": "DzgLeCsJcBEU"
      },
      "outputs": [],
      "source": [
        "# updated to most recent version 0.20 -> 0.26\n",
        "!wget https://dist.ipfs.tech/kubo/v0.26.0/kubo_v0.26.0_linux-amd64.tar.gz\n",
        "!tar -xvzf kubo_v0.26.0_linux-amd64.tar.gz"
      ]
    },
    {
      "cell_type": "code",
      "execution_count": null,
      "metadata": {
        "id": "6yFMen0pcE92"
      },
      "outputs": [],
      "source": [
        "!bash /content/kubo/install.sh"
      ]
    },
    {
      "cell_type": "code",
      "execution_count": null,
      "metadata": {
        "id": "DvNvJB5kcG6j"
      },
      "outputs": [],
      "source": [
        "!ipfs --version"
      ]
    },
    {
      "cell_type": "code",
      "execution_count": null,
      "metadata": {
        "id": "aQykV0CLcMvM"
      },
      "outputs": [],
      "source": [
        "!ipfs init"
      ]
    },
    {
      "cell_type": "code",
      "execution_count": null,
      "metadata": {
        "id": "I8GR6nHQcSFM"
      },
      "outputs": [],
      "source": [
        "# if this cell doesn't complete within a couple seconds just restart it\n",
        "# if it still doesn't complete within a couple seconds, try the next cell\n",
        "# once or twice then try this one again\n",
        "import os\n",
        "import time\n",
        "\n",
        "!ipfs config Addresses.Gateway /ip4/127.0.0.1/tcp/8082\n",
        "get_ipython().system_raw('ipfs daemon &')\n",
        "\n",
        "ready = os.popen('ipfs stats bw').read()\n",
        "print(ready)\n",
        "while not ready:\n",
        "  time.sleep(0.1)\n",
        "  ready = os.popen('ipfs stats bw').read()\n",
        "\n",
        "print('ipfs is ready')"
      ]
    },
    {
      "cell_type": "code",
      "execution_count": null,
      "metadata": {
        "id": "NXGgKdDX_R9q"
      },
      "outputs": [],
      "source": [
        "# empty garbage\n",
        "!ipfs repo gc"
      ]
    },
    {
      "cell_type": "code",
      "execution_count": null,
      "metadata": {
        "id": "H1MFz_nCcbSz"
      },
      "outputs": [],
      "source": [
        "import json\n",
        "\n",
        "print(f'Manually setting HAMT CID')\n",
        "hamt_metadata_cid = \"bafyreicvczjixk5g7gs4rdd3sjvt7wab7mqoqcj6mqkh3fq7rnpoyc5ati\"\n",
        "print(hamt_metadata_cid)"
      ]
    },
    {
      "cell_type": "code",
      "execution_count": null,
      "metadata": {
        "id": "tPZO6tq2ABN2"
      },
      "outputs": [],
      "source": [
        "print(f'Connecting to Zarr node')\n",
        "!ipfs swarm connect /ip4/45.55.32.80/tcp/4001/p2p/12D3KooWG7itEPAHut3xsVo7CwyD8sKeQXKgQizotNhPsToCssXQ"
      ]
    },
    {
      "cell_type": "code",
      "execution_count": null,
      "metadata": {
        "id": "x-lWsjJr7QZ7"
      },
      "outputs": [],
      "source": [
        "# get era5_precip CID for non-HAMT releases\n",
        "metadata_cid = !ipfs name resolve k2k4r8l6plbm4r3ks757u8avo5n8t0ghszkwx3uu61cid363lx45n5kl\n",
        "metadata_cid = metadata_cid[0].split('/')[2]\n",
        "!ipfs dag get {metadata_cid} | python3 -m json.tool\n",
        "\n",
        "metadata = !ipfs dag get {metadata_cid}\n",
        "\n",
        "zarr_metadata_cid = json.loads(metadata[0])[\"assets\"][\"zmetadata\"][\"href\"][\"/\"]\n",
        "print(zarr_metadata_cid)"
      ]
    },
    {
      "cell_type": "code",
      "execution_count": null,
      "metadata": {
        "id": "DnJ90TdycY5K"
      },
      "outputs": [],
      "source": [
        "print(f'Connecting to HAMT node')\n",
        "!ipfs swarm connect /ip4/167.71.180.28/tcp/4001/p2p/12D3KooWFqzYkjofVzvo7MdYy4h3cZwixJC1f6NFWGYPELU7yBNy"
      ]
    },
    {
      "cell_type": "code",
      "execution_count": null,
      "metadata": {
        "id": "3SLkzL38nrrd"
      },
      "outputs": [],
      "source": [
        "# NOTICE: STOP executing here and skip ahead 8 cells\n",
        "# to test non-HAMT retrieval only\n",
        "import ipldstore\n",
        "import xarray as xr\n",
        "import nest_asyncio\n",
        "nest_asyncio.apply()\n",
        "\n",
        "async def hamt():\n",
        "    m = ipldstore.get_ipfs_mapper(\n",
        "      host = \"http://127.0.0.1:5001\",\n",
        "      max_nodes_per_level = 10000,\n",
        "      chunker = \"size-262144\",\n",
        "      should_async_get = True,\n",
        "    )\n",
        "\n",
        "    m.set_root(hamt_metadata_cid)\n",
        "\n",
        "    ds = xr.open_zarr(m, chunks=None)\n",
        "    return ds\n",
        "\n",
        "print('Testing HAMT')\n",
        "xar = await hamt()"
      ]
    },
    {
      "cell_type": "code",
      "execution_count": null,
      "metadata": {
        "id": "ItklFL6u2LvG"
      },
      "outputs": [],
      "source": [
        "xar"
      ]
    },
    {
      "cell_type": "code",
      "execution_count": null,
      "metadata": {
        "id": "Fa45rYh79mjU"
      },
      "outputs": [],
      "source": [
        "%time x = xar.sel(latitude=40.25, longitude=-120.25, time=slice(\"2005-01-01\", \"2010-12-31\")).tp.values"
      ]
    },
    {
      "cell_type": "code",
      "execution_count": null,
      "metadata": {
        "id": "6QtHL1YXGVOY"
      },
      "outputs": [],
      "source": [
        "# test cached speed\n",
        "%time x = xar.sel(latitude=40.25, longitude=-120.25, time=slice(\"2005-01-01\", \"2010-12-31\")).tp.values"
      ]
    },
    {
      "cell_type": "code",
      "execution_count": null,
      "metadata": {
        "id": "VeiwaJYQtfil"
      },
      "outputs": [],
      "source": [
        "# confirm data size\n",
        "number_bytes = xar.sel(latitude=40.25, longitude=-120.25, time=slice(\"2005-01-01\", \"2010-12-31\")).nbytes\n",
        "number_bytes"
      ]
    },
    {
      "cell_type": "code",
      "execution_count": null,
      "metadata": {
        "id": "bP359afwthEp"
      },
      "outputs": [],
      "source": [
        "# confirm data visually\n",
        "import matplotlib.pyplot as plt\n",
        "\n",
        "query = xar.sel(latitude=40.25, longitude=-120.25, time=slice(\"2005-01-01\", \"2010-12-31\"))\n",
        "plt.rcParams['figure.figsize'] = [14, 7]\n",
        "plt.plot(query.time.values, query.tp.values)"
      ]
    },
    {
      "cell_type": "code",
      "execution_count": null,
      "metadata": {
        "id": "dNdvNWPx_PgH"
      },
      "outputs": [],
      "source": [
        "# empty garbage\n",
        "!ipfs repo gc"
      ]
    },
    {
      "cell_type": "code",
      "execution_count": null,
      "metadata": {
        "id": "4oRTrX_P46A3"
      },
      "outputs": [],
      "source": [
        "# refresh connection to Arbol pre-HAMT Zarr peer\n",
        "!ipfs swarm connect /ip4/45.55.32.80/tcp/4001/p2p/12D3KooWG7itEPAHut3xsVo7CwyD8sKeQXKgQizotNhPsToCssXQ"
      ]
    },
    {
      "cell_type": "code",
      "execution_count": null,
      "metadata": {
        "id": "XnnjN2OJt3Qe"
      },
      "outputs": [],
      "source": [
        "import ipldstore_v1\n",
        "import xarray as xr\n",
        "import nest_asyncio\n",
        "nest_asyncio.apply()\n",
        "\n",
        "async def zarr():\n",
        "    m = ipfs_mapper = ipldstore_v1.get_ipfs_mapper(\n",
        "      host = \"http://127.0.0.1:5001\",\n",
        "      max_nodes_per_level = 10000,\n",
        "      chunker = \"size-262144\",\n",
        "      should_async_get = True,\n",
        "    )\n",
        "\n",
        "    m.set_root(zarr_metadata_cid)\n",
        "\n",
        "    ds = xr.open_zarr(m, chunks=None)\n",
        "    return ds\n",
        "\n",
        "print('Testing non-HAMT Zarr')\n",
        "zar = await zarr()"
      ]
    },
    {
      "cell_type": "code",
      "execution_count": null,
      "metadata": {
        "id": "gMxF_PttuBnc"
      },
      "outputs": [],
      "source": [
        "zar"
      ]
    },
    {
      "cell_type": "code",
      "execution_count": null,
      "metadata": {
        "id": "ZA5KTsMnuDZ3"
      },
      "outputs": [],
      "source": [
        "%time z = zar.sel(latitude=40.25, longitude=-120.25, time=slice(\"2005-01-01\", \"2010-12-31\")).tp.values"
      ]
    },
    {
      "cell_type": "code",
      "execution_count": null,
      "metadata": {
        "id": "gC6-y_4JuGZV"
      },
      "outputs": [],
      "source": [
        "# retest cached speed\n",
        "%time z = zar.sel(latitude=40.25, longitude=-120.25, time=slice(\"2005-01-01\", \"2010-12-31\")).tp.values"
      ]
    },
    {
      "cell_type": "code",
      "execution_count": null,
      "metadata": {
        "id": "t8R6yOmauMKm"
      },
      "outputs": [],
      "source": [
        "number_bytes = zar.sel(latitude=40.25, longitude=-120.25, time=slice(\"2005-01-01\", \"2010-12-31\")).nbytes\n",
        "number_bytes"
      ]
    },
    {
      "cell_type": "code",
      "execution_count": null,
      "metadata": {
        "id": "F2rs-gKQuOru"
      },
      "outputs": [],
      "source": [
        "import matplotlib.pyplot as plt\n",
        "\n",
        "query = zar.sel(latitude=40.25, longitude=-120.25, time=slice(\"2005-01-01\", \"2010-12-31\"))\n",
        "plt.rcParams['figure.figsize'] = [14, 7]\n",
        "plt.plot(query.time.values, query.tp.values)"
      ]
    },
    {
      "cell_type": "code",
      "execution_count": null,
      "metadata": {
        "id": "kBvPlbcRAraX"
      },
      "outputs": [],
      "source": []
    }
  ],
  "metadata": {
    "colab": {
      "provenance": []
    },
    "kernelspec": {
      "display_name": "Python 3",
      "name": "python3"
    },
    "language_info": {
      "name": "python"
    }
  },
  "nbformat": 4,
  "nbformat_minor": 0
}
